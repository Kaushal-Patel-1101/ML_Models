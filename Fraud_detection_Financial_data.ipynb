{
 "cells": [
  {
   "cell_type": "code",
   "execution_count": 112,
   "metadata": {},
   "outputs": [],
   "source": [
    "from pyspark.sql import SparkSession \n",
    "import pyspark.sql.functions as F\n",
    "import pyspark.sql.types as T\n",
    "\n",
    "spark = SparkSession.builder.getOrCreate()\n"
   ]
  },
  {
   "cell_type": "code",
   "execution_count": 113,
   "metadata": {},
   "outputs": [
    {
     "data": {
      "text/html": [
       "\n",
       "            <div>\n",
       "                <p><b>SparkSession - in-memory</b></p>\n",
       "                \n",
       "        <div>\n",
       "            <p><b>SparkContext</b></p>\n",
       "\n",
       "            <p><a href=\"http://host.docker.internal:4040\">Spark UI</a></p>\n",
       "\n",
       "            <dl>\n",
       "              <dt>Version</dt>\n",
       "                <dd><code>v3.5.1</code></dd>\n",
       "              <dt>Master</dt>\n",
       "                <dd><code>local[*]</code></dd>\n",
       "              <dt>AppName</dt>\n",
       "                <dd><code>pyspark-shell</code></dd>\n",
       "            </dl>\n",
       "        </div>\n",
       "        \n",
       "            </div>\n",
       "        "
      ],
      "text/plain": [
       "<pyspark.sql.session.SparkSession at 0x1ffc9512ab0>"
      ]
     },
     "execution_count": 113,
     "metadata": {},
     "output_type": "execute_result"
    }
   ],
   "source": [
    "spark"
   ]
  },
  {
   "cell_type": "code",
   "execution_count": 114,
   "metadata": {},
   "outputs": [],
   "source": [
    "import os\n",
    "from os.path import isfile, join\n",
    "\n",
    "loc = os.path.abspath(\".\")\n",
    "\n",
    "data_loc = f\"{loc}/\"\n",
    "\n"
   ]
  },
  {
   "cell_type": "code",
   "execution_count": 115,
   "metadata": {},
   "outputs": [],
   "source": [
    "input_data = spark.read.csv(f\"{data_loc}Financial_data.csv\", inferSchema = True, header = True)"
   ]
  },
  {
   "cell_type": "code",
   "execution_count": 116,
   "metadata": {},
   "outputs": [
    {
     "name": "stdout",
     "output_type": "stream",
     "text": [
      "root\n",
      " |-- step: integer (nullable = true)\n",
      " |-- type: string (nullable = true)\n",
      " |-- amount: double (nullable = true)\n",
      " |-- nameOrig: string (nullable = true)\n",
      " |-- oldbalanceOrg: double (nullable = true)\n",
      " |-- newbalanceOrig: double (nullable = true)\n",
      " |-- nameDest: string (nullable = true)\n",
      " |-- oldbalanceDest: double (nullable = true)\n",
      " |-- newbalanceDest: double (nullable = true)\n",
      " |-- isFraud: integer (nullable = true)\n",
      " |-- isFlaggedFraud: integer (nullable = true)\n",
      "\n"
     ]
    }
   ],
   "source": [
    "\n",
    "df = input_data.sample(fraction=0.1)\n",
    "\n",
    "df.printSchema()\n",
    "\n"
   ]
  },
  {
   "cell_type": "code",
   "execution_count": 117,
   "metadata": {},
   "outputs": [
    {
     "name": "stdout",
     "output_type": "stream",
     "text": [
      "+----+--------+---------+-----------+-------------+--------------+-----------+--------------+--------------+-------+--------------+\n",
      "|step|    type|   amount|   nameOrig|oldbalanceOrg|newbalanceOrig|   nameDest|oldbalanceDest|newbalanceDest|isFraud|isFlaggedFraud|\n",
      "+----+--------+---------+-----------+-------------+--------------+-----------+--------------+--------------+-------+--------------+\n",
      "|   1|   DEBIT|  1065.41|C1959239586|       1817.0|        751.59| C515132998|       10330.0|           0.0|      0|             0|\n",
      "|   1| PAYMENT|  8901.99|C1632497828|      2958.91|           0.0|  M33419717|           0.0|           0.0|      0|             0|\n",
      "|   1|CASH_OUT|110414.71| C768216420|     26845.41|           0.0|C1509514333|      288800.0|       2415.16|      0|             0|\n",
      "+----+--------+---------+-----------+-------------+--------------+-----------+--------------+--------------+-------+--------------+\n",
      "only showing top 3 rows\n",
      "\n"
     ]
    }
   ],
   "source": [
    "df.show(3)"
   ]
  },
  {
   "cell_type": "code",
   "execution_count": 118,
   "metadata": {},
   "outputs": [
    {
     "name": "stdout",
     "output_type": "stream",
     "text": [
      "Train set length: 445012 reords\n",
      "Test set length: 191204 reords\n"
     ]
    }
   ],
   "source": [
    "train, test = df.randomSplit([0.7, 0.3], seed=7)\n",
    "\n",
    "print(f\"Train set length: {train.count()} reords\")\n",
    "print(f\"Test set length: {test.count()} reords\")"
   ]
  },
  {
   "cell_type": "code",
   "execution_count": 119,
   "metadata": {},
   "outputs": [
    {
     "name": "stdout",
     "output_type": "stream",
     "text": [
      "+----+-------+--------+-----------+-------------+--------------+-----------+--------------+--------------+-------+--------------+\n",
      "|step|   type|  amount|   nameOrig|oldbalanceOrg|newbalanceOrig|   nameDest|oldbalanceDest|newbalanceDest|isFraud|isFlaggedFraud|\n",
      "+----+-------+--------+-----------+-------------+--------------+-----------+--------------+--------------+-------+--------------+\n",
      "|   1|CASH_IN|  270.78| C619985571|   4184966.65|    4185237.43| C875917495|        3019.0|           0.0|      0|             0|\n",
      "|   1|CASH_IN|10844.33|C1828508781|   8623151.43|    8633995.76|C2083117811|       42274.0|      290772.6|      0|             0|\n",
      "+----+-------+--------+-----------+-------------+--------------+-----------+--------------+--------------+-------+--------------+\n",
      "only showing top 2 rows\n",
      "\n"
     ]
    }
   ],
   "source": [
    "train.show(2)"
   ]
  },
  {
   "cell_type": "code",
   "execution_count": 120,
   "metadata": {},
   "outputs": [
    {
     "data": {
      "text/plain": [
       "[('step', 'int'),\n",
       " ('type', 'string'),\n",
       " ('amount', 'double'),\n",
       " ('nameOrig', 'string'),\n",
       " ('oldbalanceOrg', 'double'),\n",
       " ('newbalanceOrig', 'double'),\n",
       " ('nameDest', 'string'),\n",
       " ('oldbalanceDest', 'double'),\n",
       " ('newbalanceDest', 'double'),\n",
       " ('isFraud', 'int'),\n",
       " ('isFlaggedFraud', 'int')]"
      ]
     },
     "execution_count": 120,
     "metadata": {},
     "output_type": "execute_result"
    }
   ],
   "source": [
    "train.dtypes"
   ]
  },
  {
   "cell_type": "code",
   "execution_count": 121,
   "metadata": {},
   "outputs": [],
   "source": [
    "catcols = [x for (x,dtypes) in train.dtypes if dtypes == \"string\" and x not in [\"nameOrig\",\"nameDest\"]]\n",
    "numcols = [x for (x,dtypes) in train.dtypes if dtypes == \"double\"]"
   ]
  },
  {
   "cell_type": "code",
   "execution_count": 122,
   "metadata": {},
   "outputs": [
    {
     "name": "stdout",
     "output_type": "stream",
     "text": [
      "['type']\n",
      "['amount', 'oldbalanceOrg', 'newbalanceOrig', 'oldbalanceDest', 'newbalanceDest']\n"
     ]
    }
   ],
   "source": [
    "print(catcols)\n",
    "print(numcols)"
   ]
  },
  {
   "cell_type": "code",
   "execution_count": 123,
   "metadata": {},
   "outputs": [
    {
     "name": "stdout",
     "output_type": "stream",
     "text": [
      "+--------------------+\n",
      "|count(DISTINCT type)|\n",
      "+--------------------+\n",
      "|                   5|\n",
      "+--------------------+\n",
      "\n"
     ]
    }
   ],
   "source": [
    "train.agg(F.countDistinct(\"type\")).show()"
   ]
  },
  {
   "cell_type": "code",
   "execution_count": 124,
   "metadata": {},
   "outputs": [
    {
     "name": "stdout",
     "output_type": "stream",
     "text": [
      "+--------+------+\n",
      "|    type| count|\n",
      "+--------+------+\n",
      "|TRANSFER| 37390|\n",
      "| CASH_IN| 97613|\n",
      "|CASH_OUT|156502|\n",
      "| PAYMENT|150632|\n",
      "|   DEBIT|  2875|\n",
      "+--------+------+\n",
      "\n"
     ]
    }
   ],
   "source": [
    "train.groupby(\"type\").count().show()"
   ]
  },
  {
   "cell_type": "code",
   "execution_count": 125,
   "metadata": {},
   "outputs": [],
   "source": [
    "from pyspark.ml.feature import OneHotEncoder, StringIndexer"
   ]
  },
  {
   "cell_type": "code",
   "execution_count": 126,
   "metadata": {},
   "outputs": [],
   "source": [
    "string_indexer = [\n",
    "    StringIndexer(inputCol=x, outputCol=x + \"_StringIndexer\", handleInvalid=\"skip\") for x in catcols    \n",
    "]"
   ]
  },
  {
   "cell_type": "code",
   "execution_count": 127,
   "metadata": {},
   "outputs": [
    {
     "data": {
      "text/plain": [
       "[StringIndexer_f1ae3725efc8]"
      ]
     },
     "execution_count": 127,
     "metadata": {},
     "output_type": "execute_result"
    }
   ],
   "source": [
    "string_indexer"
   ]
  },
  {
   "cell_type": "code",
   "execution_count": 128,
   "metadata": {},
   "outputs": [],
   "source": [
    "one_hot_encoder = [\n",
    "    OneHotEncoder(inputCols=[f\"{x}_StringIndexer\" for x in catcols],\n",
    "                  outputCols=[f\"{x}_OneHotEncoder\" for x in catcols],\n",
    "    )     \n",
    "]"
   ]
  },
  {
   "cell_type": "code",
   "execution_count": 129,
   "metadata": {},
   "outputs": [
    {
     "data": {
      "text/plain": [
       "[OneHotEncoder_170807770483]"
      ]
     },
     "execution_count": 129,
     "metadata": {},
     "output_type": "execute_result"
    }
   ],
   "source": [
    "one_hot_encoder"
   ]
  },
  {
   "cell_type": "markdown",
   "metadata": {},
   "source": [
    "Vector Assembler"
   ]
  },
  {
   "cell_type": "code",
   "execution_count": 130,
   "metadata": {},
   "outputs": [],
   "source": [
    "from pyspark.ml.feature import VectorAssembler"
   ]
  },
  {
   "cell_type": "code",
   "execution_count": 131,
   "metadata": {},
   "outputs": [
    {
     "data": {
      "text/plain": [
       "['amount',\n",
       " 'oldbalanceOrg',\n",
       " 'newbalanceOrig',\n",
       " 'oldbalanceDest',\n",
       " 'newbalanceDest',\n",
       " 'type_OneHotEncoder']"
      ]
     },
     "execution_count": 131,
     "metadata": {},
     "output_type": "execute_result"
    }
   ],
   "source": [
    "assemblerInput = [x for x in numcols]\n",
    "assemblerInput += [f\"{x}_OneHotEncoder\" for x in catcols]\n",
    "assemblerInput"
   ]
  },
  {
   "cell_type": "code",
   "execution_count": 132,
   "metadata": {},
   "outputs": [],
   "source": [
    "vector_assembler = VectorAssembler(\n",
    "    inputCols= assemblerInput, outputCol=\"VectorAssembler_features\"\n",
    ")"
   ]
  },
  {
   "cell_type": "code",
   "execution_count": 133,
   "metadata": {},
   "outputs": [
    {
     "data": {
      "text/plain": [
       "[StringIndexer_f1ae3725efc8,\n",
       " OneHotEncoder_170807770483,\n",
       " VectorAssembler_1dadb6f94700]"
      ]
     },
     "execution_count": 133,
     "metadata": {},
     "output_type": "execute_result"
    }
   ],
   "source": [
    "stages = []\n",
    "stages += string_indexer\n",
    "stages += one_hot_encoder\n",
    "stages += [vector_assembler]\n",
    "\n",
    "stages"
   ]
  },
  {
   "cell_type": "code",
   "execution_count": 134,
   "metadata": {},
   "outputs": [],
   "source": [
    "from pyspark.ml import Pipeline\n"
   ]
  },
  {
   "cell_type": "code",
   "execution_count": 135,
   "metadata": {},
   "outputs": [
    {
     "name": "stdout",
     "output_type": "stream",
     "text": [
      "CPU times: total: 46.9 ms\n",
      "Wall time: 16.2 s\n"
     ]
    }
   ],
   "source": [
    "%%time\n",
    "\n",
    "pipeline = Pipeline().setStages(stages)\n",
    "\n",
    "model = pipeline.fit(train)\n"
   ]
  },
  {
   "cell_type": "code",
   "execution_count": 136,
   "metadata": {},
   "outputs": [],
   "source": [
    "pp_df = model.transform(test)"
   ]
  },
  {
   "cell_type": "code",
   "execution_count": 137,
   "metadata": {},
   "outputs": [
    {
     "name": "stdout",
     "output_type": "stream",
     "text": [
      "+----------------------------------------------------------------------+\n",
      "|VectorAssembler_features                                              |\n",
      "+----------------------------------------------------------------------+\n",
      "|[18536.86,4031649.33,4050186.19,303464.0,0.0,0.0,0.0,1.0,0.0]         |\n",
      "|[35902.49,371688.15,407590.65,49003.3,0.0,0.0,0.0,1.0,0.0]            |\n",
      "|[44809.72,3493979.56,3538789.28,5683588.25,5579568.65,0.0,0.0,1.0,0.0]|\n",
      "|[57262.72,4374599.01,4431861.74,72917.77,16896.7,0.0,0.0,1.0,0.0]     |\n",
      "|[62871.06,8367720.25,8430591.3,177707.91,4894.45,0.0,0.0,1.0,0.0]     |\n",
      "|[65525.9,6129312.4,6194838.3,129627.65,122027.28,0.0,0.0,1.0,0.0]     |\n",
      "|[72897.92,6666214.43,6739112.35,327169.9,4891090.56,0.0,0.0,1.0,0.0]  |\n",
      "|[80448.13,4274305.14,4354753.26,124139.21,43691.09,0.0,0.0,1.0,0.0]   |\n",
      "|[89327.65,943628.44,1032956.09,2063442.28,3940085.21,0.0,0.0,1.0,0.0] |\n",
      "|[95564.34,5326873.42,5422437.76,97263.78,1699.44,0.0,0.0,1.0,0.0]     |\n",
      "+----------------------------------------------------------------------+\n",
      "only showing top 10 rows\n",
      "\n"
     ]
    }
   ],
   "source": [
    "pp_df.select(\"VectorAssembler_features\").show(10,truncate=False)"
   ]
  },
  {
   "cell_type": "code",
   "execution_count": 138,
   "metadata": {},
   "outputs": [],
   "source": [
    "from pyspark.ml.classification import LogisticRegression"
   ]
  },
  {
   "cell_type": "code",
   "execution_count": 139,
   "metadata": {},
   "outputs": [],
   "source": [
    "data = pp_df.select(\n",
    "    F.col(\"VectorAssembler_features\").alias(\"features\"),\n",
    "    F.col(\"isFraud\").alias(\"label\")\n",
    ")"
   ]
  },
  {
   "cell_type": "code",
   "execution_count": 140,
   "metadata": {},
   "outputs": [
    {
     "name": "stdout",
     "output_type": "stream",
     "text": [
      "+----------------------------------------------------------------------+-----+\n",
      "|features                                                              |label|\n",
      "+----------------------------------------------------------------------+-----+\n",
      "|[18536.86,4031649.33,4050186.19,303464.0,0.0,0.0,0.0,1.0,0.0]         |0    |\n",
      "|[35902.49,371688.15,407590.65,49003.3,0.0,0.0,0.0,1.0,0.0]            |0    |\n",
      "|[44809.72,3493979.56,3538789.28,5683588.25,5579568.65,0.0,0.0,1.0,0.0]|0    |\n",
      "|[57262.72,4374599.01,4431861.74,72917.77,16896.7,0.0,0.0,1.0,0.0]     |0    |\n",
      "|[62871.06,8367720.25,8430591.3,177707.91,4894.45,0.0,0.0,1.0,0.0]     |0    |\n",
      "+----------------------------------------------------------------------+-----+\n",
      "only showing top 5 rows\n",
      "\n"
     ]
    }
   ],
   "source": [
    "data.show(5,truncate=False)"
   ]
  },
  {
   "cell_type": "code",
   "execution_count": 141,
   "metadata": {},
   "outputs": [
    {
     "name": "stdout",
     "output_type": "stream",
     "text": [
      "CPU times: total: 31.2 ms\n",
      "Wall time: 42.5 s\n"
     ]
    }
   ],
   "source": [
    "%%time\n",
    "\n",
    "model1 = LogisticRegression().fit(data)"
   ]
  },
  {
   "cell_type": "code",
   "execution_count": 142,
   "metadata": {},
   "outputs": [
    {
     "data": {
      "text/plain": [
       "0.9823238841041741"
      ]
     },
     "execution_count": 142,
     "metadata": {},
     "output_type": "execute_result"
    }
   ],
   "source": [
    "model1.summary.areaUnderROC"
   ]
  },
  {
   "cell_type": "code",
   "execution_count": 143,
   "metadata": {},
   "outputs": [
    {
     "name": "stdout",
     "output_type": "stream",
     "text": [
      "+-------------------+-------------------+\n",
      "|             recall|          precision|\n",
      "+-------------------+-------------------+\n",
      "|                0.0| 0.9142857142857143|\n",
      "|0.38095238095238093| 0.9142857142857143|\n",
      "| 0.5357142857142857| 0.7180851063829787|\n",
      "| 0.5674603174603174| 0.5276752767527675|\n",
      "| 0.5833333333333334| 0.4152542372881356|\n",
      "| 0.6031746031746031|0.34782608695652173|\n",
      "|  0.623015873015873| 0.3019230769230769|\n",
      "| 0.6349206349206349|0.26533996683250416|\n",
      "| 0.6587301587301587|0.24198250728862974|\n",
      "| 0.6666666666666666|0.21846553966189858|\n",
      "| 0.6825396825396826|0.20187793427230047|\n",
      "| 0.6944444444444444|0.18716577540106952|\n",
      "| 0.7023809523809523| 0.1738703339882122|\n",
      "| 0.7182539682539683|0.16439600363306087|\n",
      "| 0.7301587301587301| 0.1554054054054054|\n",
      "| 0.7420634920634921|0.14759273875295975|\n",
      "|  0.746031746031746|0.13925925925925925|\n",
      "|  0.753968253968254|0.13258897418004187|\n",
      "| 0.7619047619047619| 0.1266490765171504|\n",
      "| 0.7738095238095238|0.12195121951219512|\n",
      "+-------------------+-------------------+\n",
      "only showing top 20 rows\n",
      "\n"
     ]
    }
   ],
   "source": [
    "model1.summary.pr.show()"
   ]
  },
  {
   "cell_type": "code",
   "execution_count": null,
   "metadata": {},
   "outputs": [],
   "source": []
  }
 ],
 "metadata": {
  "kernelspec": {
   "display_name": "Python 3",
   "language": "python",
   "name": "python3"
  },
  "language_info": {
   "codemirror_mode": {
    "name": "ipython",
    "version": 3
   },
   "file_extension": ".py",
   "mimetype": "text/x-python",
   "name": "python",
   "nbconvert_exporter": "python",
   "pygments_lexer": "ipython3",
   "version": "3.12.3"
  }
 },
 "nbformat": 4,
 "nbformat_minor": 2
}
